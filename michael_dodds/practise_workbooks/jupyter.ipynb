{
 "cells": [
  {
   "cell_type": "code",
   "execution_count": 1,
   "metadata": {},
   "outputs": [],
   "source": [
    "\n",
    "import numpy as np \n",
    "import matplotlib.pyplot as plt \n",
    "import math \n",
    "import random "
   ]
  },
  {
   "cell_type": "code",
   "execution_count": 580,
   "metadata": {},
   "outputs": [],
   "source": [
    "categories = np.linspace(0.001, 8, 101)\n",
    "probabilities = np.absolute(np.random.normal(0, 1, size=categories.size))\n",
    "probabilities = probabilities / probabilities.sum() \n",
    "\n",
    "def categorical_probability(x, w):\n",
    "    return w[x]\n",
    "\n",
    "def multinomial_coefficient(N, counts): \n",
    "    \n",
    "    numerator = np.math.factorial(N)\n",
    "    \n",
    "    denominator = 1 \n",
    "    for k in counts: \n",
    "        denominator *= np.math.factorial(k)\n",
    "\n",
    "    return numerator / denominator\n",
    "\n",
    "counts = np.random.randint(0, 5, size=categories.shape)\n",
    "N = np.sum(counts) \n",
    "\n",
    "def poisson_distrib(K, lmb):\n",
    "    return np.exp(-lmb) * (lmb**K) / math.factorial(K) \n",
    "\n",
    "def neg_binomial(x, r, p): \n",
    "    norm = math.factorial(x + r) / (math.factorial(x) * math.factorial(r)) \n",
    "    expectation = norm * (1-p)**r * p**x \n",
    "    return expectation\n",
    "\n",
    "def normal_distribution(x, mu, sigma): \n",
    "    normalisation_factor = 1 / np.sqrt(2 * np.pi * sigma)\n",
    "    return normalisation_factor * np.exp(- (1/2) * ((x-mu) / (sigma))**2)\n",
    "\n",
    "def beta_function(a, b):\n",
    "    return (math.gamma(a) + math.gamma(b)) / math.gamma(a+b)\n",
    "\n",
    "def student_distribution(x, v, mu, sigma): \n",
    "    z = np.sqrt(v) * sigma * beta_function(0.5, (v/2)) \n",
    "    exponent = -((v+1)/2)\n",
    "    distance = ((x-mu) / sigma)**2\n",
    "    p = (1/z) * (1 + (1/v) * distance) ** exponent \n",
    "    return p \n",
    "\n",
    "\n",
    "def laplace_distribution(x, mu, b):\n",
    "    return 1/(2 * b) * np.exp((-(abs(x-mu))/b))\n",
    "\n",
    "\n",
    "def gamma_distribution(x, a, b): \n",
    "    return ((b**a) / math.gamma(a)) * (x**(a-1)) * np.exp(- (x * b))\n",
    "\n",
    "def inverse_gamme(x, a, b):\n",
    "    return ((b**a) / math.gamma(a)) * (x**-(a+1)) * np.exp(-(b / x))\n",
    "\n",
    "def pareto_distribution(x, k, m):\n",
    "    y = np.zeros(shape=x.shape)\n",
    "    indices = np.where(x >= m, True, False)\n",
    "    y[indices] = k * m ** k * (1 / x[indices]**(k+1)) \n",
    "    return y\n",
    "\n",
    "def unit_norm(v: np.array): \n",
    "    return v / v.sum() "
   ]
  },
  {
   "cell_type": "code",
   "execution_count": 423,
   "metadata": {},
   "outputs": [
    {
     "data": {
      "text/plain": [
       "[<matplotlib.lines.Line2D at 0xffff6a1a8050>]"
      ]
     },
     "execution_count": 423,
     "metadata": {},
     "output_type": "execute_result"
    },
    {
     "data": {
      "image/png": "[encoded data removed]",
      "text/plain": [
       "<Figure size 640x480 with 1 Axes>"
      ]
     },
     "metadata": {},
     "output_type": "display_data"
    }
   ],
   "source": [
    "plt.close()\n",
    "y = normal_distribution(categories, 4, 1)\n",
    "plt.plot(categories, y)"
   ]
  },
  {
   "cell_type": "code",
   "execution_count": 748,
   "metadata": {},
   "outputs": [
    {
     "name": "stdout",
     "output_type": "stream",
     "text": [
      "-39.68227179885944 -39.68227179885945\n"
     ]
    }
   ],
   "source": [
    "def markov_transition_matrix(K):\n",
    "    A = np.abs(np.random.normal(0, 1, size=(K, K))) \n",
    "    A = A.T / np.sum(A, axis=1)\n",
    "    return A.T\n",
    "\n",
    "K = 4 \n",
    "A = markov_transition_matrix(K + 1)\n",
    "states = np.linspace(0, K, K+1).astype(int)\n",
    "init_state = random.choice(states)\n",
    "\n",
    "steps = 10 \n",
    "repeats = 3 \n",
    "sequences = np.zeros(shape=(3, steps), dtype=int)\n",
    "for r in range(repeats): \n",
    "    for n in range(steps):\n",
    "        if n == 0: \n",
    "            state = np.random.choice(states, p=unit_norm(A.sum(axis=0)))\n",
    "        else: \n",
    "            state = np.random.choice(states, p=A[state])    \n",
    "        \n",
    "        sequences[r, n] = state \n",
    "\n",
    "\n",
    "def likelihood_at_index(prior_state, posterior_state, A): \n",
    "    if posterior_state is None: \n",
    "        return unit_norm(A.sum(axis=0))[prior_state] \n",
    "    else: \n",
    "        return A[prior_state, posterior_state]\n",
    "\n",
    "def sequence_log_likelihood(sequence, A): \n",
    "    log_likelihood = 0 \n",
    "    for step, state in enumerate(sequence):\n",
    "        if step == 0:\n",
    "            log_likelihood += np.log(likelihood_at_index(state, None, A))\n",
    "        else:\n",
    "            log_likelihood += np.log(likelihood_at_index(sequence[step-1], sequence[step], A)) \n",
    "    \n",
    "    return log_likelihood \n",
    "\n",
    "def dataset_log_likelihood(sequences, A): \n",
    "    init_states = np.zeros(shape=A.shape[0])\n",
    "    states = np.zeros(shape=A.shape) \n",
    "\n",
    "    test_ll = 0 \n",
    "    for sequence in sequences: \n",
    "        init_states[sequence[0]] += 1 \n",
    "        test_ll += sequence_log_likelihood(sequence, A)\n",
    "        \n",
    "        for i in range(1, len(sequence)):\n",
    "            prior_state = sequence[i - 1]\n",
    "            posterior_state = sequence[i]\n",
    "        \n",
    "            states[prior_state, posterior_state] += 1 \n",
    "    \n",
    "    log_likelihood = 0\n",
    "    for i in range(A.shape[0]):\n",
    "        log_likelihood += init_states[i] * np.log(likelihood_at_index(i, None, A)) \n",
    "\n",
    "    for i in range(A.shape[0]): \n",
    "        for j in range(A.shape[1]): \n",
    "            log_likelihood += states[i, j] * np.log(likelihood_at_index(i, j, A))\n",
    "        \n",
    "\n",
    "    return log_likelihood, test_ll \n",
    "\n",
    "\n",
    "log_likelihood_1, test_ll = dataset_log_likelihood(sequences, A)\n",
    "print(log_likelihood_1, test_ll)"
   ]
  },
  {
   "cell_type": "code",
   "execution_count": 747,
   "metadata": {},
   "outputs": [
    {
     "ename": "TypeError",
     "evalue": "'int' object is not iterable",
     "output_type": "error",
     "traceback": [
      "\u001b[0;31m---------------------------------------------------------------------------\u001b[0m",
      "\u001b[0;31mTypeError\u001b[0m                                 Traceback (most recent call last)",
      "Cell \u001b[0;32mIn[747], line 1\u001b[0m\n\u001b[0;32m----> 1\u001b[0m \u001b[38;5;28;43;01mfor\u001b[39;49;00m\u001b[43m \u001b[49m\u001b[43mi\u001b[49m\u001b[43m \u001b[49m\u001b[38;5;129;43;01min\u001b[39;49;00m\u001b[43m \u001b[49m\u001b[38;5;28;43mlen\u001b[39;49m\u001b[43m(\u001b[49m\u001b[43mA\u001b[49m\u001b[43m)\u001b[49m\u001b[43m:\u001b[49m\u001b[43m \u001b[49m\n\u001b[1;32m      2\u001b[0m \u001b[43m    \u001b[49m\u001b[38;5;28;43mprint\u001b[39;49m\u001b[43m(\u001b[49m\u001b[43mA\u001b[49m\u001b[43m)\u001b[49m\n",
      "\u001b[0;31mTypeError\u001b[0m: 'int' object is not iterable"
     ]
    }
   ],
   "source": [
    "for i in len(A): \n",
    "    print(A)"
   ]
  }
 ],
 "metadata": {
  "kernelspec": {
   "display_name": "Python 3",
   "language": "python",
   "name": "python3"
  },
  "language_info": {
   "codemirror_mode": {
    "name": "ipython",
    "version": 3
   },
   "file_extension": ".py",
   "mimetype": "text/x-python",
   "name": "python",
   "nbconvert_exporter": "python",
   "pygments_lexer": "ipython3",
   "version": "3.10.15"
  }
 },
 "nbformat": 4,
 "nbformat_minor": 2
}
