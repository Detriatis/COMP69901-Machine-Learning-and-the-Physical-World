{
 "cells": [
  {
   "cell_type": "markdown",
   "metadata": {},
   "source": [
    "Emulation and Experimental Design\n",
    "=================================\n",
    "\n",
    "### [Neil D. Lawrence](http://inverseprobability.com)\n",
    "\n",
    "### 2020-10-29"
   ]
  },
  {
   "cell_type": "markdown",
   "metadata": {},
   "source": [
    "**Abstract**: This lecture will review the ideas behind using surrogate\n",
    "models for experimental design."
   ]
  },
  {
   "cell_type": "markdown",
   "metadata": {},
   "source": [
    "$$\n",
    "\\newcommand{\\tk}[1]{}\n",
    "%\\newcommand{\\tk}[1]{\\textbf{TK}: #1}\n",
    "\\newcommand{\\Amatrix}{\\mathbf{A}}\n",
    "\\newcommand{\\KL}[2]{\\text{KL}\\left( #1\\,\\|\\,#2 \\right)}\n",
    "\\newcommand{\\Kaast}{\\kernelMatrix_{\\mathbf{ \\ast}\\mathbf{ \\ast}}}\n",
    "\\newcommand{\\Kastu}{\\kernelMatrix_{\\mathbf{ \\ast} \\inducingVector}}\n",
    "\\newcommand{\\Kff}{\\kernelMatrix_{\\mappingFunctionVector \\mappingFunctionVector}}\n",
    "\\newcommand{\\Kfu}{\\kernelMatrix_{\\mappingFunctionVector \\inducingVector}}\n",
    "\\newcommand{\\Kuast}{\\kernelMatrix_{\\inducingVector \\bf\\ast}}\n",
    "\\newcommand{\\Kuf}{\\kernelMatrix_{\\inducingVector \\mappingFunctionVector}}\n",
    "\\newcommand{\\Kuu}{\\kernelMatrix_{\\inducingVector \\inducingVector}}\n",
    "\\newcommand{\\Kuui}{\\Kuu^{-1}}\n",
    "\\newcommand{\\Qaast}{\\mathbf{Q}_{\\bf \\ast \\ast}}\n",
    "\\newcommand{\\Qastf}{\\mathbf{Q}_{\\ast \\mappingFunction}}\n",
    "\\newcommand{\\Qfast}{\\mathbf{Q}_{\\mappingFunctionVector \\bf \\ast}}\n",
    "\\newcommand{\\Qff}{\\mathbf{Q}_{\\mappingFunctionVector \\mappingFunctionVector}}\n",
    "\\newcommand{\\aMatrix}{\\mathbf{A}}\n",
    "\\newcommand{\\aScalar}{a}\n",
    "\\newcommand{\\aVector}{\\mathbf{a}}\n",
    "\\newcommand{\\acceleration}{a}\n",
    "\\newcommand{\\bMatrix}{\\mathbf{B}}\n",
    "\\newcommand{\\bScalar}{b}\n",
    "\\newcommand{\\bVector}{\\mathbf{b}}\n",
    "\\newcommand{\\basisFunc}{\\phi}\n",
    "\\newcommand{\\basisFuncVector}{\\boldsymbol{ \\basisFunc}}\n",
    "\\newcommand{\\basisFunction}{\\phi}\n",
    "\\newcommand{\\basisLocation}{\\mu}\n",
    "\\newcommand{\\basisMatrix}{\\boldsymbol{ \\Phi}}\n",
    "\\newcommand{\\basisScalar}{\\basisFunction}\n",
    "\\newcommand{\\basisVector}{\\boldsymbol{ \\basisFunction}}\n",
    "\\newcommand{\\activationFunction}{\\phi}\n",
    "\\newcommand{\\activationMatrix}{\\boldsymbol{ \\Phi}}\n",
    "\\newcommand{\\activationScalar}{\\basisFunction}\n",
    "\\newcommand{\\activationVector}{\\boldsymbol{ \\basisFunction}}\n",
    "\\newcommand{\\bigO}{\\mathcal{O}}\n",
    "\\newcommand{\\binomProb}{\\pi}\n",
    "\\newcommand{\\cMatrix}{\\mathbf{C}}\n",
    "\\newcommand{\\cbasisMatrix}{\\hat{\\boldsymbol{ \\Phi}}}\n",
    "\\newcommand{\\cdataMatrix}{\\hat{\\dataMatrix}}\n",
    "\\newcommand{\\cdataScalar}{\\hat{\\dataScalar}}\n",
    "\\newcommand{\\cdataVector}{\\hat{\\dataVector}}\n",
    "\\newcommand{\\centeredKernelMatrix}{\\mathbf{ \\MakeUppercase{\\centeredKernelScalar}}}\n",
    "\\newcommand{\\centeredKernelScalar}{b}\n",
    "\\newcommand{\\centeredKernelVector}{\\centeredKernelScalar}\n",
    "\\newcommand{\\centeringMatrix}{\\mathbf{H}}\n",
    "\\newcommand{\\chiSquaredDist}[2]{\\chi_{#1}^{2}\\left(#2\\right)}\n",
    "\\newcommand{\\chiSquaredSamp}[1]{\\chi_{#1}^{2}}\n",
    "\\newcommand{\\conditionalCovariance}{\\boldsymbol{ \\Sigma}}\n",
    "\\newcommand{\\coregionalizationMatrix}{\\mathbf{B}}\n",
    "\\newcommand{\\coregionalizationScalar}{b}\n",
    "\\newcommand{\\coregionalizationVector}{\\mathbf{ \\coregionalizationScalar}}\n",
    "\\newcommand{\\covDist}[2]{\\text{cov}_{#2}\\left(#1\\right)}\n",
    "\\newcommand{\\covSamp}[1]{\\text{cov}\\left(#1\\right)}\n",
    "\\newcommand{\\covarianceScalar}{c}\n",
    "\\newcommand{\\covarianceVector}{\\mathbf{ \\covarianceScalar}}\n",
    "\\newcommand{\\covarianceMatrix}{\\mathbf{C}}\n",
    "\\newcommand{\\covarianceMatrixTwo}{\\boldsymbol{ \\Sigma}}\n",
    "\\newcommand{\\croupierScalar}{s}\n",
    "\\newcommand{\\croupierVector}{\\mathbf{ \\croupierScalar}}\n",
    "\\newcommand{\\croupierMatrix}{\\mathbf{ \\MakeUppercase{\\croupierScalar}}}\n",
    "\\newcommand{\\dataDim}{p}\n",
    "\\newcommand{\\dataIndex}{i}\n",
    "\\newcommand{\\dataIndexTwo}{j}\n",
    "\\newcommand{\\dataMatrix}{\\mathbf{Y}}\n",
    "\\newcommand{\\dataScalar}{y}\n",
    "\\newcommand{\\dataSet}{\\mathcal{D}}\n",
    "\\newcommand{\\dataStd}{\\sigma}\n",
    "\\newcommand{\\dataVector}{\\mathbf{ \\dataScalar}}\n",
    "\\newcommand{\\decayRate}{d}\n",
    "\\newcommand{\\degreeMatrix}{\\mathbf{ \\MakeUppercase{\\degreeScalar}}}\n",
    "\\newcommand{\\degreeScalar}{d}\n",
    "\\newcommand{\\degreeVector}{\\mathbf{ \\degreeScalar}}\n",
    "\\newcommand{\\diag}[1]{\\text{diag}\\left(#1\\right)}\n",
    "\\newcommand{\\diagonalMatrix}{\\mathbf{D}}\n",
    "\\newcommand{\\diff}[2]{\\frac{\\text{d}#1}{\\text{d}#2}}\n",
    "\\newcommand{\\diffTwo}[2]{\\frac{\\text{d}^2#1}{\\text{d}#2^2}}\n",
    "\\newcommand{\\displacement}{x}\n",
    "\\newcommand{\\displacementVector}{\\textbf{\\displacement}}\n",
    "\\newcommand{\\distanceMatrix}{\\mathbf{ \\MakeUppercase{\\distanceScalar}}}\n",
    "\\newcommand{\\distanceScalar}{d}\n",
    "\\newcommand{\\distanceVector}{\\mathbf{ \\distanceScalar}}\n",
    "\\newcommand{\\eigenvaltwo}{\\ell}\n",
    "\\newcommand{\\eigenvaltwoMatrix}{\\mathbf{L}}\n",
    "\\newcommand{\\eigenvaltwoVector}{\\mathbf{l}}\n",
    "\\newcommand{\\eigenvalue}{\\lambda}\n",
    "\\newcommand{\\eigenvalueMatrix}{\\boldsymbol{ \\Lambda}}\n",
    "\\newcommand{\\eigenvalueVector}{\\boldsymbol{ \\lambda}}\n",
    "\\newcommand{\\eigenvector}{\\mathbf{ \\eigenvectorScalar}}\n",
    "\\newcommand{\\eigenvectorMatrix}{\\mathbf{U}}\n",
    "\\newcommand{\\eigenvectorScalar}{u}\n",
    "\\newcommand{\\eigenvectwo}{\\mathbf{v}}\n",
    "\\newcommand{\\eigenvectwoMatrix}{\\mathbf{V}}\n",
    "\\newcommand{\\eigenvectwoScalar}{v}\n",
    "\\newcommand{\\entropy}[1]{\\mathcal{H}\\left(#1\\right)}\n",
    "\\newcommand{\\errorFunction}{E}\n",
    "\\newcommand{\\expDist}[2]{\\left<#1\\right>_{#2}}\n",
    "\\newcommand{\\expSamp}[1]{\\left<#1\\right>}\n",
    "\\newcommand{\\expectation}[1]{\\left\\langle #1 \\right\\rangle }\n",
    "\\newcommand{\\expectationDist}[2]{\\left\\langle #1 \\right\\rangle _{#2}}\n",
    "\\newcommand{\\expectedDistanceMatrix}{\\mathcal{D}}\n",
    "\\newcommand{\\eye}{\\mathbf{I}}\n",
    "\\newcommand{\\fantasyDim}{r}\n",
    "\\newcommand{\\fantasyMatrix}{\\mathbf{ \\MakeUppercase{\\fantasyScalar}}}\n",
    "\\newcommand{\\fantasyScalar}{z}\n",
    "\\newcommand{\\fantasyVector}{\\mathbf{ \\fantasyScalar}}\n",
    "\\newcommand{\\featureStd}{\\varsigma}\n",
    "\\newcommand{\\gammaCdf}[3]{\\mathcal{GAMMA CDF}\\left(#1|#2,#3\\right)}\n",
    "\\newcommand{\\gammaDist}[3]{\\mathcal{G}\\left(#1|#2,#3\\right)}\n",
    "\\newcommand{\\gammaSamp}[2]{\\mathcal{G}\\left(#1,#2\\right)}\n",
    "\\newcommand{\\gaussianDist}[3]{\\mathcal{N}\\left(#1|#2,#3\\right)}\n",
    "\\newcommand{\\gaussianSamp}[2]{\\mathcal{N}\\left(#1,#2\\right)}\n",
    "\\newcommand{\\given}{|}\n",
    "\\newcommand{\\half}{\\frac{1}{2}}\n",
    "\\newcommand{\\heaviside}{H}\n",
    "\\newcommand{\\hiddenMatrix}{\\mathbf{ \\MakeUppercase{\\hiddenScalar}}}\n",
    "\\newcommand{\\hiddenScalar}{h}\n",
    "\\newcommand{\\hiddenVector}{\\mathbf{ \\hiddenScalar}}\n",
    "\\newcommand{\\identityMatrix}{\\eye}\n",
    "\\newcommand{\\inducingInputScalar}{z}\n",
    "\\newcommand{\\inducingInputVector}{\\mathbf{ \\inducingInputScalar}}\n",
    "\\newcommand{\\inducingInputMatrix}{\\mathbf{Z}}\n",
    "\\newcommand{\\inducingScalar}{u}\n",
    "\\newcommand{\\inducingVector}{\\mathbf{ \\inducingScalar}}\n",
    "\\newcommand{\\inducingMatrix}{\\mathbf{U}}\n",
    "\\newcommand{\\inlineDiff}[2]{\\text{d}#1/\\text{d}#2}\n",
    "\\newcommand{\\inputDim}{q}\n",
    "\\newcommand{\\inputMatrix}{\\mathbf{X}}\n",
    "\\newcommand{\\inputScalar}{x}\n",
    "\\newcommand{\\inputSpace}{\\mathcal{X}}\n",
    "\\newcommand{\\inputVals}{\\inputVector}\n",
    "\\newcommand{\\inputVector}{\\mathbf{ \\inputScalar}}\n",
    "\\newcommand{\\iterNum}{k}\n",
    "\\newcommand{\\kernel}{\\kernelScalar}\n",
    "\\newcommand{\\kernelMatrix}{\\mathbf{K}}\n",
    "\\newcommand{\\kernelScalar}{k}\n",
    "\\newcommand{\\kernelVector}{\\mathbf{ \\kernelScalar}}\n",
    "\\newcommand{\\kff}{\\kernelScalar_{\\mappingFunction \\mappingFunction}}\n",
    "\\newcommand{\\kfu}{\\kernelVector_{\\mappingFunction \\inducingScalar}}\n",
    "\\newcommand{\\kuf}{\\kernelVector_{\\inducingScalar \\mappingFunction}}\n",
    "\\newcommand{\\kuu}{\\kernelVector_{\\inducingScalar \\inducingScalar}}\n",
    "\\newcommand{\\lagrangeMultiplier}{\\lambda}\n",
    "\\newcommand{\\lagrangeMultiplierMatrix}{\\boldsymbol{ \\Lambda}}\n",
    "\\newcommand{\\lagrangian}{L}\n",
    "\\newcommand{\\laplacianFactor}{\\mathbf{ \\MakeUppercase{\\laplacianFactorScalar}}}\n",
    "\\newcommand{\\laplacianFactorScalar}{m}\n",
    "\\newcommand{\\laplacianFactorVector}{\\mathbf{ \\laplacianFactorScalar}}\n",
    "\\newcommand{\\laplacianMatrix}{\\mathbf{L}}\n",
    "\\newcommand{\\laplacianScalar}{\\ell}\n",
    "\\newcommand{\\laplacianVector}{\\mathbf{ \\ell}}\n",
    "\\newcommand{\\latentDim}{q}\n",
    "\\newcommand{\\latentDistanceMatrix}{\\boldsymbol{ \\Delta}}\n",
    "\\newcommand{\\latentDistanceScalar}{\\delta}\n",
    "\\newcommand{\\latentDistanceVector}{\\boldsymbol{ \\delta}}\n",
    "\\newcommand{\\latentForce}{f}\n",
    "\\newcommand{\\latentFunction}{u}\n",
    "\\newcommand{\\latentFunctionVector}{\\mathbf{ \\latentFunction}}\n",
    "\\newcommand{\\latentFunctionMatrix}{\\mathbf{ \\MakeUppercase{\\latentFunction}}}\n",
    "\\newcommand{\\latentIndex}{j}\n",
    "\\newcommand{\\latentScalar}{z}\n",
    "\\newcommand{\\latentVector}{\\mathbf{ \\latentScalar}}\n",
    "\\newcommand{\\latentMatrix}{\\mathbf{Z}}\n",
    "\\newcommand{\\learnRate}{\\eta}\n",
    "\\newcommand{\\lengthScale}{\\ell}\n",
    "\\newcommand{\\rbfWidth}{\\ell}\n",
    "\\newcommand{\\likelihoodBound}{\\mathcal{L}}\n",
    "\\newcommand{\\likelihoodFunction}{L}\n",
    "\\newcommand{\\locationScalar}{\\mu}\n",
    "\\newcommand{\\locationVector}{\\boldsymbol{ \\locationScalar}}\n",
    "\\newcommand{\\locationMatrix}{\\mathbf{M}}\n",
    "\\newcommand{\\variance}[1]{\\text{var}\\left( #1 \\right)}\n",
    "\\newcommand{\\mappingFunction}{f}\n",
    "\\newcommand{\\mappingFunctionMatrix}{\\mathbf{F}}\n",
    "\\newcommand{\\mappingFunctionTwo}{g}\n",
    "\\newcommand{\\mappingFunctionTwoMatrix}{\\mathbf{G}}\n",
    "\\newcommand{\\mappingFunctionTwoVector}{\\mathbf{ \\mappingFunctionTwo}}\n",
    "\\newcommand{\\mappingFunctionVector}{\\mathbf{ \\mappingFunction}}\n",
    "\\newcommand{\\scaleScalar}{s}\n",
    "\\newcommand{\\mappingScalar}{w}\n",
    "\\newcommand{\\mappingVector}{\\mathbf{ \\mappingScalar}}\n",
    "\\newcommand{\\mappingMatrix}{\\mathbf{W}}\n",
    "\\newcommand{\\mappingScalarTwo}{v}\n",
    "\\newcommand{\\mappingVectorTwo}{\\mathbf{ \\mappingScalarTwo}}\n",
    "\\newcommand{\\mappingMatrixTwo}{\\mathbf{V}}\n",
    "\\newcommand{\\maxIters}{K}\n",
    "\\newcommand{\\meanMatrix}{\\mathbf{M}}\n",
    "\\newcommand{\\meanScalar}{\\mu}\n",
    "\\newcommand{\\meanTwoMatrix}{\\mathbf{M}}\n",
    "\\newcommand{\\meanTwoScalar}{m}\n",
    "\\newcommand{\\meanTwoVector}{\\mathbf{ \\meanTwoScalar}}\n",
    "\\newcommand{\\meanVector}{\\boldsymbol{ \\meanScalar}}\n",
    "\\newcommand{\\mrnaConcentration}{m}\n",
    "\\newcommand{\\naturalFrequency}{\\omega}\n",
    "\\newcommand{\\neighborhood}[1]{\\mathcal{N}\\left( #1 \\right)}\n",
    "\\newcommand{\\neilurl}{http://inverseprobability.com/}\n",
    "\\newcommand{\\noiseMatrix}{\\boldsymbol{ E}}\n",
    "\\newcommand{\\noiseScalar}{\\epsilon}\n",
    "\\newcommand{\\noiseVector}{\\boldsymbol{ \\epsilon}}\n",
    "\\newcommand{\\norm}[1]{\\left\\Vert #1 \\right\\Vert}\n",
    "\\newcommand{\\normalizedLaplacianMatrix}{\\hat{\\mathbf{L}}}\n",
    "\\newcommand{\\normalizedLaplacianScalar}{\\hat{\\ell}}\n",
    "\\newcommand{\\normalizedLaplacianVector}{\\hat{\\mathbf{ \\ell}}}\n",
    "\\newcommand{\\numActive}{m}\n",
    "\\newcommand{\\numBasisFunc}{m}\n",
    "\\newcommand{\\numComponents}{m}\n",
    "\\newcommand{\\numComps}{K}\n",
    "\\newcommand{\\numData}{n}\n",
    "\\newcommand{\\numFeatures}{K}\n",
    "\\newcommand{\\numHidden}{h}\n",
    "\\newcommand{\\numInducing}{m}\n",
    "\\newcommand{\\numLayers}{\\ell}\n",
    "\\newcommand{\\numNeighbors}{K}\n",
    "\\newcommand{\\numSequences}{s}\n",
    "\\newcommand{\\numSuccess}{s}\n",
    "\\newcommand{\\numTasks}{m}\n",
    "\\newcommand{\\numTime}{T}\n",
    "\\newcommand{\\numTrials}{S}\n",
    "\\newcommand{\\outputIndex}{j}\n",
    "\\newcommand{\\paramVector}{\\boldsymbol{ \\theta}}\n",
    "\\newcommand{\\parameterMatrix}{\\boldsymbol{ \\Theta}}\n",
    "\\newcommand{\\parameterScalar}{\\theta}\n",
    "\\newcommand{\\parameterVector}{\\boldsymbol{ \\parameterScalar}}\n",
    "\\newcommand{\\partDiff}[2]{\\frac{\\partial#1}{\\partial#2}}\n",
    "\\newcommand{\\precisionScalar}{j}\n",
    "\\newcommand{\\precisionVector}{\\mathbf{ \\precisionScalar}}\n",
    "\\newcommand{\\precisionMatrix}{\\mathbf{J}}\n",
    "\\newcommand{\\pseudotargetScalar}{\\widetilde{y}}\n",
    "\\newcommand{\\pseudotargetVector}{\\mathbf{ \\pseudotargetScalar}}\n",
    "\\newcommand{\\pseudotargetMatrix}{\\mathbf{ \\widetilde{Y}}}\n",
    "\\newcommand{\\rank}[1]{\\text{rank}\\left(#1\\right)}\n",
    "\\newcommand{\\rayleighDist}[2]{\\mathcal{R}\\left(#1|#2\\right)}\n",
    "\\newcommand{\\rayleighSamp}[1]{\\mathcal{R}\\left(#1\\right)}\n",
    "\\newcommand{\\responsibility}{r}\n",
    "\\newcommand{\\rotationScalar}{r}\n",
    "\\newcommand{\\rotationVector}{\\mathbf{ \\rotationScalar}}\n",
    "\\newcommand{\\rotationMatrix}{\\mathbf{R}}\n",
    "\\newcommand{\\sampleCovScalar}{s}\n",
    "\\newcommand{\\sampleCovVector}{\\mathbf{ \\sampleCovScalar}}\n",
    "\\newcommand{\\sampleCovMatrix}{\\mathbf{s}}\n",
    "\\newcommand{\\scalarProduct}[2]{\\left\\langle{#1},{#2}\\right\\rangle}\n",
    "\\newcommand{\\sign}[1]{\\text{sign}\\left(#1\\right)}\n",
    "\\newcommand{\\sigmoid}[1]{\\sigma\\left(#1\\right)}\n",
    "\\newcommand{\\singularvalue}{\\ell}\n",
    "\\newcommand{\\singularvalueMatrix}{\\mathbf{L}}\n",
    "\\newcommand{\\singularvalueVector}{\\mathbf{l}}\n",
    "\\newcommand{\\sorth}{\\mathbf{u}}\n",
    "\\newcommand{\\spar}{\\lambda}\n",
    "\\newcommand{\\trace}[1]{\\text{tr}\\left(#1\\right)}\n",
    "\\newcommand{\\BasalRate}{B}\n",
    "\\newcommand{\\DampingCoefficient}{C}\n",
    "\\newcommand{\\DecayRate}{D}\n",
    "\\newcommand{\\Displacement}{X}\n",
    "\\newcommand{\\LatentForce}{F}\n",
    "\\newcommand{\\Mass}{M}\n",
    "\\newcommand{\\Sensitivity}{S}\n",
    "\\newcommand{\\basalRate}{b}\n",
    "\\newcommand{\\dampingCoefficient}{c}\n",
    "\\newcommand{\\mass}{m}\n",
    "\\newcommand{\\sensitivity}{s}\n",
    "\\newcommand{\\springScalar}{\\kappa}\n",
    "\\newcommand{\\springVector}{\\boldsymbol{ \\kappa}}\n",
    "\\newcommand{\\springMatrix}{\\boldsymbol{ \\mathcal{K}}}\n",
    "\\newcommand{\\tfConcentration}{p}\n",
    "\\newcommand{\\tfDecayRate}{\\delta}\n",
    "\\newcommand{\\tfMrnaConcentration}{f}\n",
    "\\newcommand{\\tfVector}{\\mathbf{ \\tfConcentration}}\n",
    "\\newcommand{\\velocity}{v}\n",
    "\\newcommand{\\sufficientStatsScalar}{g}\n",
    "\\newcommand{\\sufficientStatsVector}{\\mathbf{ \\sufficientStatsScalar}}\n",
    "\\newcommand{\\sufficientStatsMatrix}{\\mathbf{G}}\n",
    "\\newcommand{\\switchScalar}{s}\n",
    "\\newcommand{\\switchVector}{\\mathbf{ \\switchScalar}}\n",
    "\\newcommand{\\switchMatrix}{\\mathbf{S}}\n",
    "\\newcommand{\\tr}[1]{\\text{tr}\\left(#1\\right)}\n",
    "\\newcommand{\\loneNorm}[1]{\\left\\Vert #1 \\right\\Vert_1}\n",
    "\\newcommand{\\ltwoNorm}[1]{\\left\\Vert #1 \\right\\Vert_2}\n",
    "\\newcommand{\\onenorm}[1]{\\left\\vert#1\\right\\vert_1}\n",
    "\\newcommand{\\twonorm}[1]{\\left\\Vert #1 \\right\\Vert}\n",
    "\\newcommand{\\vScalar}{v}\n",
    "\\newcommand{\\vVector}{\\mathbf{v}}\n",
    "\\newcommand{\\vMatrix}{\\mathbf{V}}\n",
    "\\newcommand{\\varianceDist}[2]{\\text{var}_{#2}\\left( #1 \\right)}\n",
    "\\newcommand{\\vecb}[1]{\\left(#1\\right):}\n",
    "\\newcommand{\\weightScalar}{w}\n",
    "\\newcommand{\\weightVector}{\\mathbf{ \\weightScalar}}\n",
    "\\newcommand{\\weightMatrix}{\\mathbf{W}}\n",
    "\\newcommand{\\weightedAdjacencyMatrix}{\\mathbf{A}}\n",
    "\\newcommand{\\weightedAdjacencyScalar}{a}\n",
    "\\newcommand{\\weightedAdjacencyVector}{\\mathbf{ \\weightedAdjacencyScalar}}\n",
    "\\newcommand{\\onesVector}{\\mathbf{1}}\n",
    "\\newcommand{\\zerosVector}{\\mathbf{0}}\n",
    "$$"
   ]
  },
  {
   "cell_type": "markdown",
   "metadata": {},
   "source": [
    "%\n",
    "\n",
    "<!-- Do not edit this file locally. -->\n",
    "<!-- Do not edit this file locally. -->\n",
    "<!---->\n",
    "<!-- Do not edit this file locally. -->\n",
    "<!-- Do not edit this file locally. -->\n",
    "<!-- The last names to be defined. Should be defined entirely in terms of macros from above-->\n",
    "<!--\n",
    "\n",
    "-->"
   ]
  },
  {
   "cell_type": "markdown",
   "metadata": {},
   "source": [
    "Emulation\n",
    "========="
   ]
  },
  {
   "cell_type": "markdown",
   "metadata": {},
   "source": [
    "Experiment, Analyze, Design\n",
    "---------------------------\n",
    "\n",
    "{One thing about working in an industrial environment, is the way that\n",
    "short term thinking actions become important. For example, in Formula\n",
    "One, the teams are working on a two week cycle to digest information\n",
    "from the previous week’s race and incorporate updates to the car or\n",
    "their strategy.\n",
    "\n",
    "However, businesses have to also think about more medium term horizons.\n",
    "For example, in Formula 1 you need to worry about next year’s car. So\n",
    "while you’re working on updating this year’s car, you also need to think\n",
    "about what will happen for next year and prioritise these conflicting\n",
    "needs appropriately.\n",
    "\n",
    "In the Amazon supply chain, there are the equivalent demands. If we\n",
    "accept that an artificial intelligence is just an automated decision\n",
    "making system. And if we measure in terms of money automatically spent,\n",
    "or goods automatically moved, then Amazon’s buying system is perhaps the\n",
    "world’s largest AI.\n",
    "\n",
    "Those decisions are being made on short time schedules, purchases are\n",
    "made by the system on weekly cycles. But just as in Formula 1, there is\n",
    "also a need to think about what needs to be done next month, next\n",
    "quarter and next year. Planning meetings are held not only on a weekly\n",
    "basis (known as weekly business reviews), but monthly, quarterly and\n",
    "then yearly meetings for planning spends and investments.\n",
    "\n",
    "Amazon is known for being longer term thinking than many companies, and\n",
    "a lot of this is coming from the CEO. One quote from Jeff Bezos that\n",
    "stuck with me was the following.\n",
    "\n",
    "> “I very frequently get the question: ‘What’s going to change in the\n",
    "> next 10 years?’ And that is a very interesting question; it’s a very\n",
    "> common one. I almost never get the question: ‘What’s not going to\n",
    "> change in the next 10 years?’ And I submit to you that that second\n",
    "> question is actually the more important of the two – because you can\n",
    "> build a business strategy around the things that are stable in time. …\n",
    "> \\[I\\]n our retail business, we know that customers want low prices,\n",
    "> and I know that’s going to be true 10 years from now. They want fast\n",
    "> delivery; they want vast selection. It’s impossible to imagine a\n",
    "> future 10 years from now where a customer comes up and says, ‘Jeff I\n",
    "> love Amazon; I just wish the prices were a little higher,’ \\[or\\] ‘I\n",
    "> love Amazon; I just wish you’d deliver a little more slowly.’\n",
    "> Impossible. And so the effort we put into those things, spinning those\n",
    "> things up, we know the energy we put into it today will still be\n",
    "> paying off dividends for our customers 10 years from now. When you\n",
    "> have something that you know is true, even over the long term, you can\n",
    "> afford to put a lot of energy into it.”\n",
    "\n",
    "This quote is incredibly important for long term thinking. Indeed, it’s\n",
    "a failure of many of our simulations that they focus on what is going to\n",
    "happen, not what will not happen. In Amazon, this meant that there was\n",
    "constant focus on these three areas, keeping costs low, making delivery\n",
    "fast and improving selection. For example, shortly before I left Amazon\n",
    "moved its entire US network from 2 day delivery to 1 day delivery. This\n",
    "involves changing the way the entire buying system operates. Or, more\n",
    "recently, the company has had to radically change the portfolio of\n",
    "products it buys in the face of Covid19.\n",
    "\n",
    "<!--These challenges are not just there for Amazon and Formula 1. In Sheffield, we worked closely with a Chesterfield based company called Fusion Group. They make joints that fuse PTFE pipes together. These pipes are used for transporting both water and gas. Their founder, Eric Bridgstock, was an engineer who introduced PTFE piping to the UK when working for DuPont. Eric set up Fusion group to manufacture the fusion fittings. Because PTFE pipes carry water or gas at high pressure, when these fittings fail significant damage can occur. When these fittings were originally installed in the early 1980s, the job was done by a specialist, but nowadays the pipe weld is compelted by the same team that digs the hole. While costs have come down, the number of PTFE weld failures went up. Eric's company focussed on new systems for auto-->\n",
    "\n",
    "<img src=\"http://inverseprobability.com/talks/slides/../slides/diagrams/ml/experiment-analyze-design.svg\" class=\"\" width=\"50%\" style=\"vertical-align:middle;\">\n",
    "\n",
    "Figure: <i>The experiment, analyze, design flywheel for scientific\n",
    "innovation.</i>\n",
    "\n",
    "From the perspective of the team we had in the supply chain, we looked\n",
    "at what we most needed to focus on. Amazon moves very quickly, but we\n",
    "could also take a leaf out of Jeff’s book, and instead of worrying about\n",
    "what was going to change, remember what wasn’t going to change.\n",
    "\n",
    "> We don’t know what science we’ll want to do in 5 years time, but we\n",
    "> won’t want slower experiments, we won’t want more expensive\n",
    "> experiments and we won’t want a narrower selection of experiments.\n",
    "\n",
    "As a result, our focus was on how to speed up the process of\n",
    "experiments, increase the diversity of experiments that we can do, and\n",
    "keep the experiments price as low as possible.\n",
    "\n",
    "The faster the innovation fly-wheel can be iterated, then the quicker we\n",
    "can ask about different parts of the supply chain, and the better we can\n",
    "tailor systems to answering those questions.\n",
    "\n",
    "As a result our objective became a two-order magnitude increase in\n",
    "number of experiments run across a five year period."
   ]
  },
  {
   "cell_type": "markdown",
   "metadata": {},
   "source": [
    "Statistical Emulation\n",
    "---------------------\n",
    "\n",
    "<img src=\"http://inverseprobability.com/talks/slides/../slides/diagrams/uq/statistical-emulation000.svg\" class=\"\" width=\"80%\" style=\"vertical-align:middle;\">\n",
    "\n",
    "Figure: <i>Real world systems consist of simulators that capture our\n",
    "domain knowledge about how our systems operate. Different simulators run\n",
    "at different speeds and granularities.</i>\n",
    "\n",
    "In many real world systems, decisions are made through simulating the\n",
    "environment. Simulations may operate at different granularities. For\n",
    "example, simulations are used in weather forecasts and climate\n",
    "forecasts. Interestingly, the UK Met office uses the same code for both,\n",
    "it has a [“Unified Model”\n",
    "approach](https://www.metoffice.gov.uk/research/approach/modelling-systems/unified-model/index),\n",
    "but they operate climate simulations one at greater spatial and temporal\n",
    "resolutions.\n",
    "\n",
    "<img class=\"negate\" src=\"http://inverseprobability.com/talks/slides/../slides/diagrams/simulation/unified_model_systems_13022018_1920.png\" style=\"width:60%\">\n",
    "\n",
    "Figure: <i>The UK Met office runs a shared code base for its simulations\n",
    "of climate and the weather. This plot shows the different spatial and\n",
    "temporal scales used.</i>\n",
    "\n",
    "<img src=\"http://inverseprobability.com/talks/slides/../slides/diagrams/uq/statistical-emulation001.svg\" class=\"\" width=\"80%\" style=\"vertical-align:middle;\">\n",
    "\n",
    "Figure: <i>A statistical emulator is a system that reconstructs the\n",
    "simulation with a statistical model.</i> § A statistical emulator is a\n",
    "data-driven model that learns about the underlying simulation.\n",
    "Importantly, learns with uncertainty, so it ‘knows what it doesn’t\n",
    "know’. In practice, we can call the emulator in place of the simulator.\n",
    "If the emulator ‘doesn’t know’, it can call the simulator for the\n",
    "answer.\n",
    "\n",
    "<img src=\"http://inverseprobability.com/talks/slides/../slides/diagrams/uq/statistical-emulation004.svg\" class=\"\" width=\"80%\" style=\"vertical-align:middle;\">\n",
    "\n",
    "Figure: <i>A statistical emulator is a system that reconstructs the\n",
    "simulation with a statistical model. As well as reconstructing the\n",
    "simulation, a statistical emulator can be used to correlate with the\n",
    "real world.</i>\n",
    "\n",
    "As well as reconstructing an individual simulator, the emulator can\n",
    "calibrate the simulation to the real world, by monitoring differences\n",
    "between the simulator and real data. This allows the emulator to\n",
    "characterise where the simulation can be relied on, i.e. we can validate\n",
    "the simulator.\n",
    "\n",
    "Similarly, the emulator can adjudicate between simulations. This is\n",
    "known as *multi-fidelity emulation*. The emulator characterizes which\n",
    "emulations perform well where.\n",
    "\n",
    "If all this modelling is done with judiscious handling of the\n",
    "uncertainty, the *computational doubt*, then the emulator can assist in\n",
    "desciding what experiment should be run next to aid a decision: should\n",
    "we run a simulator, in which case which one, or should we attempt to\n",
    "acquire data from a real world intervention."
   ]
  },
  {
   "cell_type": "markdown",
   "metadata": {},
   "source": [
    "GPy: A Gaussian Process Framework in Python\n",
    "-------------------------------------------\n",
    "\n",
    "Gaussian processes are a flexible tool for non-parametric analysis with\n",
    "uncertainty. The GPy software was started in Sheffield to provide a easy\n",
    "to use interface to GPs. One which allowed the user to focus on the\n",
    "modelling rather than the mathematics.\n",
    "\n",
    "<img class=\"\" src=\"http://inverseprobability.com/talks/slides/../slides/diagrams/gp/gpy.png\" style=\"width:70%\">\n",
    "\n",
    "Figure: <i>GPy is a BSD licensed software code base for implementing\n",
    "Gaussian process models in Python. It is designed for teaching and\n",
    "modelling. We welcome contributions which can be made through the Github\n",
    "repository\n",
    "<a href=\"https://github.com/SheffieldML/GPy\" class=\"uri\">https://github.com/SheffieldML/GPy</a></i>\n",
    "\n",
    "GPy is a BSD licensed software code base for implementing Gaussian\n",
    "process models in python. This allows GPs to be combined with a wide\n",
    "variety of software libraries.\n",
    "\n",
    "The software itself is available on\n",
    "[GitHub](https://github.com/SheffieldML/GPy) and the team welcomes\n",
    "contributions.\n",
    "\n",
    "The aim for GPy is to be a probabilistic-style programming language,\n",
    "i.e. you specify the model rather than the algorithm. As well as a large\n",
    "range of covariance functions the software allows for non-Gaussian\n",
    "likelihoods, multivariate outputs, dimensionality reduction and\n",
    "approximations for larger data sets.\n",
    "\n",
    "The documentation for GPy can be found\n",
    "[here](https://gpy.readthedocs.io/en/latest/)."
   ]
  },
  {
   "cell_type": "code",
   "execution_count": null,
   "metadata": {},
   "outputs": [],
   "source": [
    "%pip install gpy"
   ]
  },
  {
   "cell_type": "code",
   "execution_count": null,
   "metadata": {},
   "outputs": [],
   "source": [
    "import urllib.request"
   ]
  },
  {
   "cell_type": "code",
   "execution_count": null,
   "metadata": {},
   "outputs": [],
   "source": [
    "urllib.request.urlretrieve('https://raw.githubusercontent.com/lawrennd/talks/gh-pages/mlai.py','mlai.py')"
   ]
  },
  {
   "cell_type": "code",
   "execution_count": null,
   "metadata": {},
   "outputs": [],
   "source": [
    "urllib.request.urlretrieve('https://raw.githubusercontent.com/lawrennd/talks/gh-pages/teaching_plots.py','teaching_plots.py')"
   ]
  },
  {
   "cell_type": "code",
   "execution_count": null,
   "metadata": {},
   "outputs": [],
   "source": [
    "urllib.request.urlretrieve('https://raw.githubusercontent.com/lawrennd/talks/gh-pages/gp_tutorial.py','gp_tutorial.py')"
   ]
  },
  {
   "cell_type": "code",
   "execution_count": null,
   "metadata": {},
   "outputs": [],
   "source": [
    "import numpy as np\n",
    "import GPy"
   ]
  },
  {
   "cell_type": "code",
   "execution_count": null,
   "metadata": {},
   "outputs": [],
   "source": [
    "from matplotlib import pyplot as plt"
   ]
  },
  {
   "cell_type": "markdown",
   "metadata": {},
   "source": [
    "To give a feel for the sofware we’ll start by creating an exponentiated\n",
    "quadratic covariance function, $$\n",
    "k(\\mathbf{ x}, \\mathbf{ x}^\\prime) = \\alpha \\exp\\left(-\\frac{\\left\\Vert \\mathbf{ x}- \\mathbf{ x}^\\prime \\right\\Vert_2^2}{2\\ell^2}\\right),\n",
    "$$ where the length scale is $\\ell$ and the variance is $\\alpha$.\n",
    "\n",
    "To set this up in GPy we create a kernel in the following manner."
   ]
  },
  {
   "cell_type": "code",
   "execution_count": null,
   "metadata": {},
   "outputs": [],
   "source": [
    "input_dim=1\n",
    "alpha = 1.0\n",
    "lengthscale = 2.0\n",
    "kern = GPy.kern.RBF(input_dim=input_dim, variance=alpha, lengthscale=lengthscale)"
   ]
  },
  {
   "cell_type": "markdown",
   "metadata": {},
   "source": [
    "That builds a kernel object for us. The kernel can be displayed."
   ]
  },
  {
   "cell_type": "code",
   "execution_count": null,
   "metadata": {},
   "outputs": [],
   "source": [
    "display(kern)"
   ]
  },
  {
   "cell_type": "markdown",
   "metadata": {},
   "source": [
    "Or because it’s one dimensional, you can also plot the kernel as a\n",
    "function of its inputs (while the other is fixed)."
   ]
  },
  {
   "cell_type": "code",
   "execution_count": null,
   "metadata": {},
   "outputs": [],
   "source": [
    "import teaching_plots as plot\n",
    "import mlai"
   ]
  },
  {
   "cell_type": "code",
   "execution_count": null,
   "metadata": {},
   "outputs": [],
   "source": [
    "fig, ax = plt.subplots(figsize=plot.big_wide_figsize)\n",
    "kern.plot(ax=ax)\n",
    "mlai.write_figure('gpy-eq-covariance.svg', directory='./kern')"
   ]
  },
  {
   "cell_type": "markdown",
   "metadata": {},
   "source": [
    "<img src=\"http://inverseprobability.com/talks/slides/../slides/diagrams/kern/gpy-eq-covariance.svg\" class=\"\" width=\"50%\" style=\"vertical-align:middle;\">\n",
    "\n",
    "Figure: <i>The exponentiated quadratic covariance function as plotted by\n",
    "the `GPy.kern.plot` command.</i>\n",
    "\n",
    "You can set the lengthscale of the covariance to different values and\n",
    "plot the result."
   ]
  },
  {
   "cell_type": "code",
   "execution_count": null,
   "metadata": {},
   "outputs": [],
   "source": [
    "kern = GPy.kern.RBF(input_dim=input_dim)     # By default, the parameters are set to 1.\n",
    "lengthscales = np.asarray([0.2,0.5,1.,2.,4.])"
   ]
  },
  {
   "cell_type": "code",
   "execution_count": null,
   "metadata": {},
   "outputs": [],
   "source": [
    "fig, ax = plt.subplots(figsize=plot.big_wide_figsize)\n",
    "\n",
    "for lengthscale in lengthscales:\n",
    "    kern.lengthscale=lengthscale\n",
    "    kern.plot(ax=ax)\n",
    "\n",
    "ax.legend(lengthscales)\n",
    "mlai.write_figure('gpy-eq-covariance-lengthscales.svg', directory='./kern')"
   ]
  },
  {
   "cell_type": "markdown",
   "metadata": {},
   "source": [
    "Covariance Functions in GPy\n",
    "---------------------------\n",
    "\n",
    "Many covariance functions are already implemented in GPy. Instead of\n",
    "rbf, try constructing and plotting the following covariance functions:\n",
    "`exponential`, `Matern32`, `Matern52`, `Brownian`, `linear`, `bias`,\n",
    "`rbfcos`, `periodic_Matern32`, etc. Some of these covariance functions,\n",
    "such as `rbfcos`, are not parametrized by a variance and a lengthscale.\n",
    "Furthermore, not all kernels are stationary (i.e., they can’t all be\n",
    "written as $k ( x, y) = f ( x − y)$, see for example the Brownian\n",
    "covariance function). For plotting so it may be interesting to change\n",
    "the value of the fixed input."
   ]
  },
  {
   "cell_type": "code",
   "execution_count": null,
   "metadata": {},
   "outputs": [],
   "source": [
    "fig, ax = plt.subplots(figsize=plot.big_wide_figsize)\n",
    "\n",
    "brownian_kern = GPy.kern.Brownian(input_dim=1)\n",
    "inputs = np.array([2., 4.])\n",
    "for x in inputs:\n",
    "    brownian_kern.plot(x,plot_limits=[0,5], ax=ax)\n",
    "ax.legend(inputs)\n",
    "ax.set_ylim(-0.1,5.1)\n",
    "\n",
    "mlai.write_figure('gpy-brownian-covariance-lengthscales.svg', directory='./kern')"
   ]
  },
  {
   "cell_type": "markdown",
   "metadata": {},
   "source": [
    "Combining Covariance Functions in GPy\n",
    "-------------------------------------\n",
    "\n",
    "In GPy you can easily combine covariance functions you have created\n",
    "using the sum and product operators, `+` and `*`. So, for example, if we\n",
    "wish to combine an exponentiated quadratic covariance with a Matern 5/2\n",
    "then we can write"
   ]
  },
  {
   "cell_type": "code",
   "execution_count": null,
   "metadata": {},
   "outputs": [],
   "source": [
    "kern1 = GPy.kern.RBF(1, variance=1., lengthscale=2.)\n",
    "kern2 = GPy.kern.Matern52(1, variance=2., lengthscale=4.)\n",
    "kern = kern1 + kern2\n",
    "display(kern)"
   ]
  },
  {
   "cell_type": "code",
   "execution_count": null,
   "metadata": {},
   "outputs": [],
   "source": [
    "fig, ax = plt.subplots(figsize=plot.big_wide_figsize)\n",
    "\n",
    "kern.plot(ax=ax)\n",
    "\n",
    "mlai.write_figure('gpy-eq-plus-matern52-covariance.svg', directory='./kern')"
   ]
  },
  {
   "cell_type": "markdown",
   "metadata": {},
   "source": [
    "<img src=\"http://inverseprobability.com/talks/slides/../slides/diagrams/kern/gpy-eq-plus-matern52-covariance.svg\" class=\"\" width=\"80%\" style=\"vertical-align:middle;\">\n",
    "\n",
    "Figure: <i>A combination of the exponentiated quadratic covariance plus\n",
    "the Matern $5/2$ covariance.</i>\n",
    "\n",
    "Or if we wanted to multiply them we can write"
   ]
  },
  {
   "cell_type": "code",
   "execution_count": null,
   "metadata": {},
   "outputs": [],
   "source": [
    "kern1 = GPy.kern.RBF(1, variance=1., lengthscale=2.)\n",
    "kern2 = GPy.kern.Matern52(1, variance=2., lengthscale=4.)\n",
    "kern = kern1 * kern2\n",
    "display(kern)"
   ]
  },
  {
   "cell_type": "code",
   "execution_count": null,
   "metadata": {},
   "outputs": [],
   "source": [
    "fig, ax = plt.subplots(figsize=plot.big_wide_figsize)\n",
    "\n",
    "kern.plot(ax=ax)\n",
    "\n",
    "mlai.write_figure('gpy-eq-times-matern52-covariance.svg', directory='./kern')"
   ]
  },
  {
   "cell_type": "markdown",
   "metadata": {},
   "source": [
    "<img src=\"http://inverseprobability.com/talks/slides/../slides/diagrams/kern/gpy-eq-times-matern52-covariance.svg\" class=\"\" width=\"80%\" style=\"vertical-align:middle;\">\n",
    "\n",
    "Figure: <i>A combination of the exponentiated quadratic covariance\n",
    "multiplied by the Matern $5/2$ covariance.</i>\n",
    "\n",
    "You can learn about how to implement [new kernel objects in GPy\n",
    "here](https://gpy.readthedocs.io/en/latest/tuto_creating_new_kernels.html)."
   ]
  },
  {
   "cell_type": "markdown",
   "metadata": {},
   "source": [
    "A Gaussian Process Regression Model\n",
    "-----------------------------------\n",
    "\n",
    "We will now combine the Gaussian process prior with some data to form a\n",
    "GP regression model with GPy. We will generate data from the function $$\n",
    "f( x) = − \\cos(\\pi x) + \\sin(4\\pi x)$ over $[0, 1],\n",
    "$$ adding some noise to give $$\n",
    "y(x) = f(x) + \\epsilon,\n",
    "$$ with the noise being Gaussian distributed,\n",
    "$\\epsilon\\sim \\mathcal{N}\\left(0,0.01\\right)$."
   ]
  },
  {
   "cell_type": "code",
   "execution_count": null,
   "metadata": {},
   "outputs": [],
   "source": [
    "X = np.linspace(0.05,0.95,10)[:,np.newaxis]\n",
    "Y = -np.cos(np.pi*X) + np.sin(4*np.pi*X) + np.random.normal(loc=0.0, scale=0.1, size=(10,1))"
   ]
  },
  {
   "cell_type": "code",
   "execution_count": null,
   "metadata": {},
   "outputs": [],
   "source": [
    "fig, ax = plt.subplots(figsize=plot.big_wide_figsize)\n",
    "ax.plot(X,Y,'kx',mew=1.5, linewidth=2)\n",
    "\n",
    "mlai.write_figure('noisy-sine.svg', directory='./gp')"
   ]
  },
  {
   "cell_type": "markdown",
   "metadata": {},
   "source": [
    "<img src=\"http://inverseprobability.com/talks/slides/../slides/diagrams/gp/noisy-sine.svg\" class=\"\" width=\"80%\" style=\"vertical-align:middle;\">\n",
    "\n",
    "Figure: <i>Data from the noisy sine wave for fitting with a GPy\n",
    "model.</i>\n",
    "\n",
    "A GP regression model based on an exponentiated quadratic covariance\n",
    "function can be defined by first defining a covariance function."
   ]
  },
  {
   "cell_type": "code",
   "execution_count": null,
   "metadata": {},
   "outputs": [],
   "source": [
    "kern = GPy.kern.RBF(input_dim=1, variance=1., lengthscale=1.)"
   ]
  },
  {
   "cell_type": "markdown",
   "metadata": {},
   "source": [
    "And then combining it with the data to form a Gaussian process model."
   ]
  },
  {
   "cell_type": "code",
   "execution_count": null,
   "metadata": {},
   "outputs": [],
   "source": [
    "model = GPy.models.GPRegression(X,Y,kern)"
   ]
  },
  {
   "cell_type": "markdown",
   "metadata": {},
   "source": [
    "Just as for the covariance function object, we can find out about the\n",
    "model using the command `display(model)`."
   ]
  },
  {
   "cell_type": "code",
   "execution_count": null,
   "metadata": {},
   "outputs": [],
   "source": [
    "display(model)"
   ]
  },
  {
   "cell_type": "markdown",
   "metadata": {},
   "source": [
    "Note that by default the model includes some observation noise with\n",
    "variance 1. We can see the posterior mean prediction and visualize the\n",
    "marginal posterior variances using `model.plot()`."
   ]
  },
  {
   "cell_type": "code",
   "execution_count": null,
   "metadata": {},
   "outputs": [],
   "source": [
    "fig, ax = plt.subplots(figsize=plot.big_wide_figsize)\n",
    "model.plot(ax=ax)\n",
    "\n",
    "mlai.write_figure('noisy-sine-gp-fit.svg', directory='./gp')"
   ]
  },
  {
   "cell_type": "markdown",
   "metadata": {},
   "source": [
    "<img src=\"http://inverseprobability.com/talks/slides/../slides/diagrams/gp/noisy-sine-gp-fit.svg\" class=\"\" width=\"80%\" style=\"vertical-align:middle;\">\n",
    "\n",
    "Figure: <i>A Gaussian process fit to the noisy sine data. Here the\n",
    "parameters of the process and the covariance function haven’t yet been\n",
    "optimized.</i>\n",
    "\n",
    "You can also look directly at the predictions for the model using."
   ]
  },
  {
   "cell_type": "code",
   "execution_count": null,
   "metadata": {},
   "outputs": [],
   "source": [
    "Xstar = np.linspace(0, 10, 100)[:, np.newaxis]\n",
    "Ystar, Vstar = model.predict(Xstar)"
   ]
  },
  {
   "cell_type": "markdown",
   "metadata": {},
   "source": [
    "Which gives you the mean (`Ystar`), the variance (`Vstar`) at the\n",
    "locations given by `Xstar`."
   ]
  },
  {
   "cell_type": "markdown",
   "metadata": {},
   "source": [
    "Covariance Function Parameter Estimation\n",
    "----------------------------------------\n",
    "\n",
    "As we have seen during the lectures, the parameters values can be\n",
    "estimated by maximizing the likelihood of the observations. Since we\n",
    "don’t want one of the variance to become negative during the\n",
    "optimization, we can constrain all parameters to be positive before\n",
    "running the optimisation."
   ]
  },
  {
   "cell_type": "code",
   "execution_count": null,
   "metadata": {},
   "outputs": [],
   "source": [
    "model.constrain_positive()"
   ]
  },
  {
   "cell_type": "markdown",
   "metadata": {},
   "source": [
    "The warnings are because the parameters are already constrained by\n",
    "default, the software is warning us that they are being reconstrained.\n",
    "\n",
    "Now we can optimize the model using the `model.optimize()` method. Here\n",
    "we switch messages on, which allows us to see the progession of the\n",
    "optimization."
   ]
  },
  {
   "cell_type": "code",
   "execution_count": null,
   "metadata": {},
   "outputs": [],
   "source": [
    "model.optimize(messages=True)"
   ]
  },
  {
   "cell_type": "markdown",
   "metadata": {},
   "source": [
    "{By default the optimization is using a limited memory BFGS optimizer\n",
    "(Byrd et al., 1995)."
   ]
  },
  {
   "cell_type": "code",
   "execution_count": null,
   "metadata": {},
   "outputs": [],
   "source": [
    "fig, ax = plt.subplots(figsize=plot.big_wide_figsize)\n",
    "model.plot(ax=ax)\n",
    "\n",
    "mlai.write_figure('noisy-sine-gp-optimized-fit.svg', directory='./gp')"
   ]
  },
  {
   "cell_type": "markdown",
   "metadata": {},
   "source": [
    "<img src=\"http://inverseprobability.com/talks/slides/../slides/diagrams/gp/noisy-sine-gp-optimized-fit.svg\" class=\"\" width=\"80%\" style=\"vertical-align:middle;\">\n",
    "\n",
    "Figure: <i>A Gaussian process fit to the noisy sine data with parameters\n",
    "optimized.</i>"
   ]
  },
  {
   "cell_type": "code",
   "execution_count": null,
   "metadata": {},
   "outputs": [],
   "source": [
    "import mlai\n",
    "import teaching_plots as plot"
   ]
  },
  {
   "cell_type": "markdown",
   "metadata": {},
   "source": [
    "Related publications and links will appear here.\n",
    "\n",
    "Examle paper: McKay et al. (1979) Kennedy and O’Hagan (2001)\n",
    "\n",
    "The MUCM project\n",
    "<a href=\"http://www.mucm.ac.uk/\" class=\"uri\">http://www.mucm.ac.uk/</a>\n",
    "\n",
    "$\\newcommand{\\sigma}{\\sigma_{\\text{noise}}}$\n",
    "\n",
    "http://www.mucm.ac.uk/Pages/Dissemination/TechnicalReports.html\n",
    "\n",
    "> Random Sampling. Let the input values $x_1, \\dots, x_n$ be a random\n",
    "> sample from $f(x)$. This method of sampling is perhaps the most\n",
    "> obvious, and an entire body of statistical literature may be used in\n",
    "> making infer- ences regarding the distribution of $Y(t)$. Stratified\n",
    "> Sampling. Using stratified sampling, all areas of the sample space of\n",
    "> $X$ are represented by input values. Let the sample space $S$ of $X$\n",
    "> be partitioned into $I$ disjoint strata $S_t$. Let $\\pi = P(X C S_i)$\n",
    "> represent the size of $S_i$. Obtain a random sample\n",
    "> $XiJ,j = 1, \\dots, n$ from $S_i$. Then of course the $n_i$ sum to $N$.\n",
    "> If $I = 1$, we have random sampling over the entire sample space.\n",
    "> Latin Hypercube Sampling. The same reasoning that led to stratified\n",
    "> sampling, ensuring that all por- tions of $S$ were sampled, could lead\n",
    "> further. If we wish to ensure also that each of the input variables\n",
    "> $X_k$ has all portions of its distribution represented by input\n",
    "> values, we can divide the range of each $X_k$ into $N$ strata of equal\n",
    "> marginal probability $1/N$, and sample once from each stratum. Let\n",
    "> this sample be $Xkj,j = 1, \\dots, N$. These form the $X_k$ component,\n",
    "> $k = 1, * , K, in Xi, i = 1, * , N$. The components of the various\n",
    "> $X,A's$ are matched at random. This method of selecting input values\n",
    "> is an extension of quota sam- pling \\[13\\], and can be viewed as a\n",
    "> K-dimensional extension of Latin square sampling \\[11\\]. One advantage\n",
    "> of the Latin hypercube sample ap- pears when the output $Y(t)$ is\n",
    "> dominated by only a few of the components of $X$. This method ensures\n",
    "> that each of those components is represented in a fully stratified\n",
    "> manner, no matter which components might turn out to be important. We\n",
    "> mention here that the $N$ intervals on the range of each component of\n",
    "> X combine to form $NK$ cells which cover the sample space of $X$.\n",
    "> These cells, which are labeled by coordinates corresponding to the\n",
    "> inter- vals, are used when finding the properties of the sampling\n",
    "> plan."
   ]
  },
  {
   "cell_type": "code",
   "execution_count": null,
   "metadata": {},
   "outputs": [],
   "source": [
    "%pip install pyDOE"
   ]
  },
  {
   "cell_type": "markdown",
   "metadata": {},
   "source": [
    "Emukit Playground\n",
    "-----------------\n",
    "\n",
    "Emukit playground is a software toolkit for exploring the use of\n",
    "statistical emulation as a tool. It was built by [Adam\n",
    "Hirst](https://twitter.com/_AdamHirst), during his software engineering\n",
    "internship at Amazon and supervised by Cliff McCollum.\n",
    "\n",
    "<img class=\"\" src=\"http://inverseprobability.com/talks/slides/../slides/diagrams/uq/emukit-playground.png\" style=\"width:80%\">\n",
    "\n",
    "Figure: <i>Emukit playground is a tutorial for understanding the\n",
    "simulation/emulation relationship.\n",
    "<a href=\"https://amzn.github.io/emukit-playground/\" class=\"uri\">https://amzn.github.io/emukit-playground/</a></i>\n",
    "\n",
    "<img class=\"negate\" src=\"http://inverseprobability.com/talks/slides/../slides/diagrams/uq/emukit-playground-bayes-opt.png\" style=\"width:80%\">\n",
    "\n",
    "Figure: <i>Tutorial on Bayesian optimization of the number of taxis\n",
    "deployed from Emukit playground.\n",
    "<a href=\"https://amzn.github.io/emukit-playground/#!/learn/bayesian_optimization\" class=\"uri\">https://amzn.github.io/emukit-playground/#!/learn/bayesian_optimization</a></i>\n",
    "\n",
    "You can explore Bayesian optimization of a taxi simulation."
   ]
  },
  {
   "cell_type": "code",
   "execution_count": null,
   "metadata": {},
   "outputs": [],
   "source": [
    "%pip install emukit"
   ]
  },
  {
   "cell_type": "markdown",
   "metadata": {},
   "source": [
    "This introduction is based on [An Introduction to Experimental Design\n",
    "with\n",
    "Emukit](https://github.com/EmuKit/emukit/blob/master/notebooks/Emukit-tutorial-experimental-design-introduction.ipynb)\n",
    "written by Andrei Paleyes and Maren Mahsereci."
   ]
  },
  {
   "cell_type": "markdown",
   "metadata": {},
   "source": [
    "Alex Forrester\n",
    "--------------\n",
    "\n",
    "<svg viewBox=\"0 0 200 200\" style=\"width:15%\">\n",
    "\n",
    "<defs> <clipPath id=\"clip0\">\n",
    "\n",
    "<style>\n",
    "circle {\n",
    "  fill: black;\n",
    "}\n",
    "</style>\n",
    "\n",
    "<circle cx=\"100\" cy=\"100\" r=\"100\"/> </clipPath> </defs>\n",
    "\n",
    "<title>\n",
    "\n",
    "Alex Forrester\n",
    "\n",
    "</title>\n",
    "\n",
    "<image preserveAspectRatio=\"xMinYMin slice\" width=\"100%\" xlink:href=\"../slides/diagrams/people/alex-forrester.jpg\" clip-path=\"url(#clip0)\"/>\n",
    "\n",
    "</svg>\n",
    "\n",
    "We’re going to make use of the Forrester function in our example below,\n",
    "a function developed as a demonstrator by [Alex\n",
    "Forrester](https://www.southampton.ac.uk/engineering/research/groups/performance-sports/staff-profiles/alexander-forrester.page).\n",
    "Alex is a design engineer who makes extensive use of surrogate modelling\n",
    "in Engineering design.\n",
    "\n",
    "You can see Alex talking about the use of Gaussian process surrogates\n",
    "[in this online video\n",
    "lecture](http://videolectures.net/mla09_forrester_sbcmoo/)."
   ]
  },
  {
   "cell_type": "code",
   "execution_count": null,
   "metadata": {},
   "outputs": [],
   "source": [
    "from IPython.lib.display import YouTubeVideo\n",
    "YouTubeVideo('2ngc2aw9xYs')"
   ]
  },
  {
   "cell_type": "markdown",
   "metadata": {},
   "source": [
    "Figure: <i>A kinematic simulation of the human body doing breaststroke\n",
    "that Alex uses as part of his work in optimization of human motion\n",
    "during sports.</i>\n",
    "\n",
    "The Forrester function (Forrester et al., 2008) is commonly used as a\n",
    "demonstrator function in surrogate modelling. It has the form $$\n",
    "f(x) = (6x-2)^2\\sin(12 x-4).\n",
    "$$"
   ]
  },
  {
   "cell_type": "code",
   "execution_count": null,
   "metadata": {},
   "outputs": [],
   "source": [
    "import numpy as np"
   ]
  },
  {
   "cell_type": "code",
   "execution_count": null,
   "metadata": {},
   "outputs": [],
   "source": [
    "x = np.linspace(0, 1, 100)\n",
    "f = (6*x-2)**2 * np.sin(12*x-4)"
   ]
  },
  {
   "cell_type": "code",
   "execution_count": null,
   "metadata": {},
   "outputs": [],
   "source": [
    "import matplotlib.pyplot as plt\n",
    "import teaching_plots as plot\n",
    "import mlai"
   ]
  },
  {
   "cell_type": "code",
   "execution_count": null,
   "metadata": {},
   "outputs": [],
   "source": [
    "fig, ax = plt.subplots(figsize=plot.big_wide_figsize)\n",
    "ax.plot(x, f, 'r-', linewidth=2)\n",
    "ax.set_xlabel('$x$')\n",
    "ax.set_ylabel('$f(x)$')\n",
    "\n",
    "mlai.write_figure('forrester-function.svg', directory='./uq')"
   ]
  },
  {
   "cell_type": "markdown",
   "metadata": {},
   "source": [
    "<img src=\"http://inverseprobability.com/talks/slides/../slides/diagrams/uq/forrester-function.svg\" class=\"\" width=\"80%\" style=\"vertical-align:middle;\">\n",
    "\n",
    "Figure: <i>The Forrester function is commonly used as an exemplar\n",
    "function for surrogate modelling and emulation. It has the form\n",
    "$f(x) = (6x-2)^2\\sin(12 x-4)$</i>\n",
    "\n",
    "Experimental design.\n",
    "\n",
    "Latin hypercube\n",
    "\n",
    "Linear example"
   ]
  },
  {
   "cell_type": "code",
   "execution_count": null,
   "metadata": {},
   "outputs": [],
   "source": [
    "import numpy as np\n",
    "\n",
    "from emukit.test_functions import forrester_function\n",
    "from emukit.core.loop.user_function import UserFunctionWrapper\n",
    "from emukit.core import ContinuousParameter, ParameterSpace"
   ]
  },
  {
   "cell_type": "code",
   "execution_count": null,
   "metadata": {},
   "outputs": [],
   "source": [
    "target_function, space = forrester_function()"
   ]
  },
  {
   "cell_type": "code",
   "execution_count": null,
   "metadata": {},
   "outputs": [],
   "source": [
    "x_plot = np.linspace(space.parameters[0].min, space.parameters[0].max, 301)[:, None]\n",
    "y_plot = target_function(x_plot)"
   ]
  },
  {
   "cell_type": "markdown",
   "metadata": {},
   "source": []
  },
  {
   "cell_type": "code",
   "execution_count": null,
   "metadata": {},
   "outputs": [],
   "source": [
    "fig, ax = plt.subplots(figsize=plot.big_wide_figsize)\n",
    "ax.plot(x_plot, y_plot, 'k', label='target Function')\n",
    "\n",
    "ax.legend(loc=2)\n",
    "ax.set_xlabel('$x$')\n",
    "ax.set_ylabel('$f(x)$')\n",
    "ax.grid(True)\n",
    "ax.set_xlim(0, 1)\n",
    "\n",
    "mlai.write_figure(filename='forrester-function.svg', directory='./uq')"
   ]
  },
  {
   "cell_type": "markdown",
   "metadata": {},
   "source": [
    "<img src=\"http://inverseprobability.com/talks/slides/../slides/diagrams/uq/forrester-function.svg\" class=\"\" width=\"80%\" style=\"vertical-align:middle;\">\n",
    "\n",
    "Figure: <i>The Forrester function (Forrester et al., 2008).</i>"
   ]
  },
  {
   "cell_type": "markdown",
   "metadata": {},
   "source": [
    "Initial Design\n",
    "--------------\n",
    "\n",
    "Usually, before we start the actual ExpDesign loop we need to gather a\n",
    "few observations such that we can fit the model. This is called the\n",
    "initial design and common strategies are either a predefined grid or\n",
    "sampling points uniformly at random."
   ]
  },
  {
   "cell_type": "code",
   "execution_count": null,
   "metadata": {},
   "outputs": [],
   "source": [
    "X_init = np.array([[0.2],[0.6], [0.9]])\n",
    "Y_init = target_function(X_init)"
   ]
  },
  {
   "cell_type": "code",
   "execution_count": null,
   "metadata": {},
   "outputs": [],
   "source": [
    "fig, ax = plt.subplots(figsize=plot.big_wide_figsize)\n",
    "ax.plot(X_init, Y_init, 'ro', markersize=10, label='Observations')\n",
    "ax.plot(x_plot, y_plot, 'k', label='Target Function')\n",
    "\n",
    "ax.legend(loc=2)\n",
    "ax.set_xlabel('$x$')\n",
    "ax.set_ylabel('$f(x)$')\n",
    "ax.grid(True)\n",
    "ax.set_xlim(0, 1)\n",
    "\n",
    "mlai.write_figure(filename='forrester-function-initial-design.svg', directory='./uq')"
   ]
  },
  {
   "cell_type": "markdown",
   "metadata": {},
   "source": [
    "<img src=\"http://inverseprobability.com/talks/slides/../slides/diagrams/uq/forrester-function-initial-design.svg\" class=\"\" width=\"80%\" style=\"vertical-align:middle;\">\n",
    "\n",
    "Figure: <i>The initial design for the Forrester function example.</i>"
   ]
  },
  {
   "cell_type": "markdown",
   "metadata": {},
   "source": [
    "The Model\n",
    "---------\n",
    "\n",
    "Now we can start with the ExpDesign loop by first fitting a model on the\n",
    "collected data. A popular model for ExpDesign is a Gaussian process (GP)\n",
    "which defines a probability distribution across classes of functions,\n",
    "typically smooth, such that each linear finite-dimensional restriction\n",
    "is multivariate Gaussian (Rasmussen and Williams, 2006). Gaussian\n",
    "processes are fully parametrized by a mean $\\mu(\\mathbf{ x})$ and a\n",
    "covariance function $k(\\mathbf{ x},\\mathbf{ x}^\\prime)$. Without loss of\n",
    "generality $\\mu(\\mathbf{ x})$ is assumed to be zero. The covariance\n",
    "function $k(\\mathbf{ x},\\mathbf{ x}^\\prime)$ characterizes the\n",
    "smoothness and other properties of $f$. It is known that the kernel of\n",
    "the process has to be continuous, symmetric and positive definite. A\n",
    "widely used kernel is the exponentiated quadratic or RBF kernel: $$ \n",
    "k(\\mathbf{ x},\\mathbf{ x}^\\prime) = \\alpha \\exp{ \\left(-\\frac{\\|\\mathbf{ x}-\\mathbf{ x}^\\prime\\|^2}{2 \\ell}\\right)} \n",
    "$$ where $\\alpha$ and $\\ell$ are hyperparameters.\n",
    "\n",
    "To denote that $f$ is a sample from a GP with mean $\\mu$ and covariance\n",
    "$k$ we write $$\n",
    "f\\sim \\mathcal{GP}(\\mu,k).\n",
    "$$\n",
    "\n",
    "For regression tasks, the most important feature of GPs is that process\n",
    "priors are conjugate to the likelihood from finitely many observations\n",
    "$\\mathbf{Y}= (y_1,\\dots,y_n)^\\top$ and\n",
    "$\\mathbf{X}=\\{\\mathbf{ x}_1,\\dots,\\mathbf{ x}_n\\}$,\n",
    "$\\mathbf{ x}_i\\in \\mathcal{X}$ of the form\n",
    "$y_i = f(\\mathbf{ x}_i) + \\epsilon_i$ where\n",
    "$\\epsilon_i \\sim \\mathcal{N}\\left(0,\\sigma^2\\right)$ and we typically\n",
    "estimate $\\sigma^2$ by maximum likelihood alongside $\\alpha$ and $\\ell$.\n",
    "\n",
    "We obtain the Gaussian posterior $$\n",
    "f(\\mathbf{ x}^*)|\\mathbf{X}, \\mathbf{Y}, \\theta \\sim \\mathcal{N}\\left(\\mu(\\mathbf{ x}^*),\\sigma^2(\\mathbf{ x}^*)\\right),\n",
    "$$ where $\\mu(\\mathbf{ x}^*)$ and $\\sigma^2(\\mathbf{ x}^*)$ have a\n",
    "closed form solution as we’ve seen in the earlier lectures (see also\n",
    "Rasmussen and Williams (2006)).\n",
    "\n",
    "Note that Gaussian processes are also characterized by hyperparameters,\n",
    "for example in the exponatiated quadratic case we have\n",
    "$\\boldsymbol{ \\theta}= \\left\\{ \\alpha, \\ell, \\sigma^2 \\right\\}$ for the\n",
    "scale of the covariance, the lengthscale and the noise variance. Here,\n",
    "for simplicitly we will keep these hyperparameters fixed. However, we\n",
    "will usually either optimize or sample these hyperparameters using the\n",
    "marginal loglikelihood of the GP.\n",
    "\n",
    "In this module we’ve focussed on Gaussian processes, but we could also\n",
    "use any other model that returns a mean $\\mu(\\mathbf{ x})$ and variance\n",
    "$\\sigma^2(\\mathbf{ x})$ on an arbitrary input points $\\mathbf{ x}$ such\n",
    "as Bayesian neural networks or random forests. In Emukit these different\n",
    "models can be used by defining a new `ModelWrapper`."
   ]
  },
  {
   "cell_type": "code",
   "execution_count": null,
   "metadata": {},
   "outputs": [],
   "source": [
    "import GPy\n",
    "from emukit.model_wrappers.gpy_model_wrappers import GPyModelWrapper"
   ]
  },
  {
   "cell_type": "code",
   "execution_count": null,
   "metadata": {},
   "outputs": [],
   "source": [
    "kern = GPy.kern.RBF(1, lengthscale=0.08, variance=20)\n",
    "gpy_model = GPy.models.GPRegression(X_init, Y_init, kern, noise_var=1e-10)\n",
    "emukit_model = GPyModelWrapper(gpy_model)\n",
    "\n",
    "mu_plot, var_plot = emukit_model.predict(x_plot)"
   ]
  },
  {
   "cell_type": "code",
   "execution_count": null,
   "metadata": {},
   "outputs": [],
   "source": [
    "import matplotlib.pyplot as plt\n",
    "\n",
    "from matplotlib import colors as mcolors\n",
    "from matplotlib import cm\n",
    "\n",
    "colors = dict(mcolors.BASE_COLORS, **mcolors.CSS4_COLORS)"
   ]
  },
  {
   "cell_type": "code",
   "execution_count": null,
   "metadata": {},
   "outputs": [],
   "source": [
    "fig, ax = plt.subplots(figsize=plot.big_wide_figsize)\n",
    "ax.plot(X_init, Y_init, 'ro', markersize=10, label='Observations')\n",
    "ax.plot(x_plot, y_plot, 'k', label='Objective Function')\n",
    "ax.plot(x_plot, mu_plot, 'C0', label='Model')\n",
    "ax.fill_between(x_plot[:, 0],\n",
    "                 mu_plot[:, 0] + np.sqrt(var_plot)[:, 0],\n",
    "                 mu_plot[:, 0] - np.sqrt(var_plot)[:, 0], color='C0', alpha=0.6)\n",
    "ax.fill_between(x_plot[:, 0],\n",
    "                 mu_plot[:, 0] + 2 * np.sqrt(var_plot)[:, 0],\n",
    "                 mu_plot[:, 0] - 2 * np.sqrt(var_plot)[:, 0], color='C0', alpha=0.4)\n",
    "ax.fill_between(x_plot[:, 0],\n",
    "                 mu_plot[:, 0] + 3 * np.sqrt(var_plot)[:, 0],\n",
    "                 mu_plot[:, 0] - 3 * np.sqrt(var_plot)[:, 0], color='C0', alpha=0.2)\n",
    "ax.legend(loc=2)\n",
    "ax.set_xlabel('$x$')\n",
    "ax.set_ylabel('$f(x)$')\n",
    "ax.grid(True)\n",
    "ax.set_xlim(0, 1)\n",
    "\n",
    "mlai.write_figure(filename='forrester-function-entropy.svg', directory='./uq')"
   ]
  },
  {
   "cell_type": "markdown",
   "metadata": {},
   "source": [
    "<img src=\"http://inverseprobability.com/talks/slides/../slides/diagrams/uq/forrester-function-entropy.svg\" class=\"\" width=\"80%\" style=\"vertical-align:middle;\">\n",
    "\n",
    "Figure: <i>The emulator fitted to the Forrester function with only three\n",
    "observations. The error bars show 1, 2 and 3 standard deviations.</i>"
   ]
  },
  {
   "cell_type": "markdown",
   "metadata": {},
   "source": [
    "The Acquisition Function\n",
    "------------------------\n",
    "\n",
    "In the second step of our ExpDesign loop we use our model to compute the\n",
    "acquisition function. We’ll review two different forms of acquisition\n",
    "funciton for doing this."
   ]
  },
  {
   "cell_type": "markdown",
   "metadata": {},
   "source": [
    "### Uncertainty Sampling\n",
    "\n",
    "In uncertainty sampling (US) we hoose the next value $\\mathbf{ x}_{n+1}$\n",
    "at the location where the model on $f(\\mathbf{ x})$ has the highest\n",
    "marginal predictive variance $$\n",
    "a_{US}(\\mathbf{ x}) = \\sigma^2(\\mathbf{ x}).\n",
    "$$ This makes sure, that we learn the function $f(\\cdot)$ everywhere on\n",
    "$\\mathbb{X}$ to a similar level of absolute error."
   ]
  },
  {
   "cell_type": "markdown",
   "metadata": {},
   "source": [
    "### Integrated Variance Reduction\n",
    "\n",
    "In the integrated variance reduction (IVR) you choose the next value\n",
    "$\\mathbf{ x}_{n+1}$ such that the total variance of the model is reduced\n",
    "maximally (Sacks et al., 1989), $$\n",
    "a_{IVR} = \\int_{\\mathbb{X}}[\\sigma^2(\\mathbf{ x}') - \\sigma^2(\\mathbf{ x}'; \\mathbf{ x})]\\text{d}\\mathbf{ x}'\\approx \n",
    "\\frac{1}{\\# \\text{samples}}\\sum_i^{\\# \\text{samples}}[\\sigma^2(\\mathbf{ x}_i) - \\sigma^2(\\mathbf{ x}_i; \\mathbf{ x})].\n",
    "$$ Here $\\sigma^2(\\mathbf{ x}'; \\mathbf{ x})$ is the predictive variance\n",
    "at $\\mathbf{ x}'$ had $\\mathbf{ x}$ been observed. Thus IVR computes the\n",
    "overall reduction in variance (for all points in $\\mathbb{X}$) had $f$\n",
    "been observed at $\\mathbf{ x}$.\n",
    "\n",
    "The finite sum approximation on the right hand side of the equation is\n",
    "usually used because the integral over $\\mathbf{ x}'$ is not analytic.\n",
    "In that case $\\mathbf{ x}_i$ are sampled randomly. For a GP model the\n",
    "right hand side simplifies to $$\n",
    "a_{LCB} \\approx \\frac{1}{\\# \\text{samples}}\\sum_i^{\\# \\text{samples}}\\frac{k^2(\\mathbf{ x}_i, \\mathbf{ x})}{\\sigma^2(\\mathbf{ x})}.\n",
    "$$\n",
    "\n",
    "IVR is arguably the more principled approach, but often US is preferred\n",
    "over IVR simply because it lends itself to gradient based optimization\n",
    "more easily, is cheaper to compute, and is exact.\n",
    "\n",
    "For both of them (stochastic) gradient base optimizers are used to\n",
    "retrieve\n",
    "$\\mathbf{ x}_{n+1} \\in \\operatorname*{arg\\:max}_{\\mathbf{ x}\\in \\mathbb{X}} a(\\mathbf{ x})$."
   ]
  },
  {
   "cell_type": "code",
   "execution_count": null,
   "metadata": {},
   "outputs": [],
   "source": [
    "from emukit.experimental_design.acquisitions import IntegratedVarianceReduction, ModelVariance"
   ]
  },
  {
   "cell_type": "code",
   "execution_count": null,
   "metadata": {},
   "outputs": [],
   "source": [
    "us_acquisition = ModelVariance(emukit_model)\n",
    "ivr_acquisition = IntegratedVarianceReduction(emukit_model, space)\n",
    "\n",
    "us_plot = us_acquisition.evaluate(x_plot)\n",
    "ivr_plot = ivr_acquisition.evaluate(x_plot)"
   ]
  },
  {
   "cell_type": "code",
   "execution_count": null,
   "metadata": {},
   "outputs": [],
   "source": [
    "fig, ax = plt.subplots(figsize=plot.big_wide_figsize)\n",
    "ax.plot(x_plot, us_plot / np.max(us_plot), 'green', label='US')\n",
    "ax.plot(x_plot, ivr_plot / np.max(ivr_plot) , 'purple', label='IVR')\n",
    "\n",
    "ax.legend(loc=1)\n",
    "ax.set_xlabel('$x$')\n",
    "ax.set_ylabel('$f(x)$')\n",
    "ax.grid(True)\n",
    "ax.set_xlim(-0.01, 1)\n",
    "\n",
    "mlai.write_figure('experimental-design-acquisition-functions-forrester.svg', directory='./uq')"
   ]
  },
  {
   "cell_type": "markdown",
   "metadata": {},
   "source": [
    "<img src=\"http://inverseprobability.com/talks/slides/../slides/diagrams/uq/experimental-design-acquisition-functions-forrester.svg\" class=\"\" width=\"80%\" style=\"vertical-align:middle;\">\n",
    "\n",
    "Figure: <i>The *uncertainty sampling* and *integrated variance\n",
    "reduction* acquisition functions for the Forrester example.</i>"
   ]
  },
  {
   "cell_type": "markdown",
   "metadata": {},
   "source": [
    "Evaluating the objective function\n",
    "---------------------------------\n",
    "\n",
    "To find the next point to evaluate we optimize the acquisition function\n",
    "using a standard gradient descent optimizer."
   ]
  },
  {
   "cell_type": "code",
   "execution_count": null,
   "metadata": {},
   "outputs": [],
   "source": [
    "from emukit.core.optimization import GradientAcquisitionOptimizer"
   ]
  },
  {
   "cell_type": "code",
   "execution_count": null,
   "metadata": {},
   "outputs": [],
   "source": [
    "optimizer = GradientAcquisitionOptimizer(space)\n",
    "x_new, _ = optimizer.optimize(us_acquisition)"
   ]
  },
  {
   "cell_type": "code",
   "execution_count": null,
   "metadata": {},
   "outputs": [],
   "source": [
    "fig, ax = plt.subplots(figsize=plot.big_wide_figsize)\n",
    "ax.plot(x_plot, us_plot / np.max(us_plot), 'green', label='US')\n",
    "ax.axvline(x_new, color='red', label='x_next', linestyle='--')\n",
    "ax.legend(loc=1)\n",
    "ax.set_xlabel('$x$')\n",
    "ax.set_ylabel('$f(x)$')\n",
    "ax.grid(True)\n",
    "ax.set_xlim(-0.01, 1)\n",
    "\n",
    "mlai.write_figure('experimental-design-acquisition-next-point-forrester.svg', directory='./uq')"
   ]
  },
  {
   "cell_type": "markdown",
   "metadata": {},
   "source": [
    "<img src=\"http://inverseprobability.com/talks/slides/../slides/diagrams/uq/experimental-design-acquisition-next-point-forrester.svg\" class=\"\" width=\"80%\" style=\"vertical-align:middle;\">\n",
    "\n",
    "Figure: <i>The maxima of the acquisition function is found and this\n",
    "point is selected for inclusion.</i>\n",
    "\n",
    "Afterwards we evaluate the true objective function and append it to our\n",
    "initial observations."
   ]
  },
  {
   "cell_type": "code",
   "execution_count": null,
   "metadata": {},
   "outputs": [],
   "source": [
    "y_new = target_function(x_new)"
   ]
  },
  {
   "cell_type": "code",
   "execution_count": null,
   "metadata": {},
   "outputs": [],
   "source": [
    "X = np.append(X_init, x_new, axis=0)\n",
    "Y = np.append(Y_init, y_new, axis=0)"
   ]
  },
  {
   "cell_type": "markdown",
   "metadata": {},
   "source": [
    "After updating the model, you can see that the uncertainty about the\n",
    "true objective function in this region decreases and our model becomes\n",
    "more certain."
   ]
  },
  {
   "cell_type": "code",
   "execution_count": null,
   "metadata": {},
   "outputs": [],
   "source": [
    "emukit_model.set_data(X, Y)\n",
    "mu_plot, var_plot = emukit_model.predict(x_plot)"
   ]
  },
  {
   "cell_type": "code",
   "execution_count": null,
   "metadata": {},
   "outputs": [],
   "source": [
    "fig, ax = plt.subplots(figsize=plot.big_wide_figsize)\n",
    "ax.plot(emukit_model.X, emukit_model.Y, 'ro', markersize=10, label='Observations')\n",
    "ax.plot(x_plot, y_plot, 'k', label='Target Function')\n",
    "ax.plot(x_plot, mu_plot, 'C0', label='Model')\n",
    "ax.fill_between(x_plot[:, 0],\n",
    "                 mu_plot[:, 0] + np.sqrt(var_plot)[:, 0],\n",
    "                 mu_plot[:, 0] - np.sqrt(var_plot)[:, 0], color='C0', alpha=0.6)\n",
    "ax.fill_between(x_plot[:, 0],\n",
    "                 mu_plot[:, 0] + 2 * np.sqrt(var_plot)[:, 0],\n",
    "                 mu_plot[:, 0] - 2 * np.sqrt(var_plot)[:, 0], color='C0', alpha=0.4)\n",
    "ax.fill_between(x_plot[:, 0],\n",
    "                 mu_plot[:, 0] + 3 * np.sqrt(var_plot)[:, 0],\n",
    "                 mu_plot[:, 0] - 3 * np.sqrt(var_plot)[:, 0], color='C0', alpha=0.2)\n",
    "ax.legend(loc=2)\n",
    "ax.set_xlabel('$x$')\n",
    "ax.set_ylabel('$f(x)$')\n",
    "ax.grid(True)\n",
    "ax.set_xlim(-0.01, 1)\n",
    "\n",
    "mlai.write_figure(filename='forrester-function-multi-errorbars.svg', directory='./uq')"
   ]
  },
  {
   "cell_type": "markdown",
   "metadata": {},
   "source": [
    "<img src=\"http://inverseprobability.com/talks/slides/../slides/diagrams/uq/forrester-function-multi-errorbars.svg\" class=\"\" width=\"80%\" style=\"vertical-align:middle;\">\n",
    "\n",
    "Figure: <i>The target Forrester function plotted alongside the emulation\n",
    "model and error bars from the emulation at 1, 2 and 3 standard\n",
    "deviations.</i>\n",
    "\n",
    "Entropy of posterior"
   ]
  },
  {
   "cell_type": "markdown",
   "metadata": {},
   "source": [
    "Emukit’s experimental design interface\n",
    "--------------------------------------\n",
    "\n",
    "Of course in practice we don’t want to implement all of these steps our\n",
    "self. Emukit provides a convenient and flexible interface to apply\n",
    "experimental design. Below we can see how to run experimental design on\n",
    "the exact same function for 10 iterations."
   ]
  },
  {
   "cell_type": "code",
   "execution_count": null,
   "metadata": {},
   "outputs": [],
   "source": [
    "from emukit.experimental_design.experimental_design_loop import ExperimentalDesignLoop"
   ]
  },
  {
   "cell_type": "code",
   "execution_count": null,
   "metadata": {},
   "outputs": [],
   "source": [
    "ed = ExperimentalDesignLoop(space=space, model=emukit_model)\n",
    "\n",
    "ed.run_loop(target_function, 10)"
   ]
  },
  {
   "cell_type": "code",
   "execution_count": null,
   "metadata": {},
   "outputs": [],
   "source": [
    "mu_plot, var_plot = ed.model.predict(x_plot)"
   ]
  },
  {
   "cell_type": "code",
   "execution_count": null,
   "metadata": {},
   "outputs": [],
   "source": [
    "fig, ax = plt.subplots(figsize=plot.big_wide_figsize)\n",
    "ax.plot(ed.loop_state.X, ed.loop_state.Y, 'ro', markersize=10, label='Observations')\n",
    "ax.plot(x_plot, y_plot, 'k', label='Objective Function')\n",
    "ax.plot(x_plot, mu_plot, 'C0', label='Model')\n",
    "ax.fill_between(x_plot[:, 0],\n",
    "                 mu_plot[:, 0] + np.sqrt(var_plot)[:, 0],\n",
    "                 mu_plot[:, 0] - np.sqrt(var_plot)[:, 0], \n",
    "                 color='C0', alpha=0.6)\n",
    "\n",
    "ax.fill_between(x_plot[:, 0],\n",
    "                 mu_plot[:, 0] + 2 * np.sqrt(var_plot)[:, 0],\n",
    "                 mu_plot[:, 0] - 2 * np.sqrt(var_plot)[:, 0], \n",
    "                 color='C0', alpha=0.4)\n",
    "\n",
    "ax.fill_between(x_plot[:, 0],\n",
    "                 mu_plot[:, 0] + 3 * np.sqrt(var_plot)[:, 0],\n",
    "                 mu_plot[:, 0] - 3 * np.sqrt(var_plot)[:, 0], \n",
    "                 color='C0', alpha=0.2)\n",
    "ax.legend(loc=2)\n",
    "ax.set_xlabel('$x$')\n",
    "ax.set_ylabel('$f(x)$')\n",
    "ax.grid(True)\n",
    "ax.set_xlim(0, 1)\n",
    "\n",
    "mlai.write_figure(filename='forrester-function-full-fit.svg', directory='./uq')"
   ]
  },
  {
   "cell_type": "markdown",
   "metadata": {},
   "source": [
    "<img src=\"http://inverseprobability.com/talks/slides/../slides/diagrams/uq/forrester-function-full-fit.svg\" class=\"\" width=\"80%\" style=\"vertical-align:middle;\">\n",
    "\n",
    "Figure: <i>The fit of the model to the Forrester function.</i>"
   ]
  },
  {
   "cell_type": "markdown",
   "metadata": {},
   "source": [
    "Thanks!\n",
    "-------\n",
    "\n",
    "For more information on these subjects and more you might want to check\n",
    "the following resources.\n",
    "\n",
    "-   twitter: [@lawrennd](https://twitter.com/lawrennd)\n",
    "-   podcast: [The Talking Machines](http://thetalkingmachines.com)\n",
    "-   newspaper: [Guardian Profile\n",
    "    Page](http://www.theguardian.com/profile/neil-lawrence)\n",
    "-   blog:\n",
    "    [http://inverseprobability.com](http://inverseprobability.com/blog.html)"
   ]
  },
  {
   "cell_type": "markdown",
   "metadata": {},
   "source": [
    "References\n",
    "----------"
   ]
  },
  {
   "cell_type": "markdown",
   "metadata": {},
   "source": [
    "Byrd, R.H., Lu, P., Nocedal, J., 1995. A limited memory algorithm for\n",
    "bound constrained optimization. SIAM Journal on Scientific and\n",
    "Statistical Computing 16, 1190–1208.\n",
    "\n",
    "Forrester, A.I.J., Sóbester, A., Keane, A.J., 2008. Engineering design\n",
    "via surrogate modelling: A practical guide. wiley.\n",
    "<https://doi.org/10.1002/9780470770801>\n",
    "\n",
    "Kennedy, M.C., O’Hagan, A., 2001. Bayesian calibration of computer\n",
    "models. Journal of the Royal Statistical Society: Series B (Statistical\n",
    "Methodology) 63, 425–464. <https://doi.org/10.1111/1467-9868.00294>\n",
    "\n",
    "McKay, M.D., Beckman, R.J., Conover, W.J., 1979. A comparison of three\n",
    "methods for selecting values of input variables in the analysis of\n",
    "output from a computer code. Technometrics 21, 239–245.\n",
    "\n",
    "Rasmussen, C.E., Williams, C.K.I., 2006. Gaussian processes for machine\n",
    "learning. mit, Cambridge, MA.\n",
    "\n",
    "Sacks, J., Welch, W.J., Mitchell, T.J., Wynn, H.P., 1989. Design and\n",
    "analysis of computer experiments. Statistical Science 4, 409–423.\n",
    "<https://doi.org/10.1214/ss/1177012413>"
   ]
  }
 ],
 "nbformat": 4,
 "nbformat_minor": 5,
 "metadata": {}
}
